{
 "cells": [
  {
   "cell_type": "code",
   "execution_count": 1,
   "id": "e6e6fc42",
   "metadata": {},
   "outputs": [],
   "source": [
    "import pickle"
   ]
  },
  {
   "cell_type": "code",
   "execution_count": 2,
   "id": "387f4a6f",
   "metadata": {},
   "outputs": [],
   "source": [
    "# best model\n",
    "filename = \"SVR_Lungcancer_finalmodel.sav\""
   ]
  },
  {
   "cell_type": "code",
   "execution_count": 3,
   "id": "a0c75e72",
   "metadata": {},
   "outputs": [],
   "source": [
    "# Load the saved model\n",
    "loaded_model = pickle.load(open(filename, 'rb'))"
   ]
  },
  {
   "cell_type": "code",
   "execution_count": 4,
   "id": "98a41bda",
   "metadata": {},
   "outputs": [
    {
     "name": "stdout",
     "output_type": "stream",
     "text": [
      "Gender (0 for F, 1 for M): 1\n",
      "Age: 55\n",
      "BLOOD_TYPE : 3\n",
      "FamilyHistory LC: 1\n",
      "PARENT_DeathwithReason: 1\n",
      "SMOKING_STATUS: 2\n",
      "DAILY_CIGARETTES: 26\n",
      "YELLOW_SKIN: 1\n",
      "ANXIETY: 1\n",
      "PEER_PRESSURE: 2\n",
      "COPD_DIAGNOSES: 2\n",
      "FATIGUE: 2\n",
      "ALLERGY: 1\n",
      "WHEEZING: 1\n",
      "ALCOHOL_CONSUMPTION: 2\n",
      "COUGHING:2\n",
      "SHORTNESS_OF_BREATH:2\n",
      "SWALLOWING_DIFFICULTY: 1\n",
      "CHEST_PAIN: 2\n"
     ]
    },
    {
     "name": "stderr",
     "output_type": "stream",
     "text": [
      "C:\\Anaconda\\envs\\ai\\Lib\\site-packages\\sklearn\\base.py:493: UserWarning: X does not have valid feature names, but SVR was fitted with feature names\n",
      "  warnings.warn(\n"
     ]
    }
   ],
   "source": [
    "def get_reg_prediction(prediction):\n",
    "    return \"Yes\" if prediction >= 1.5 else \"No\"\n",
    "\n",
    "# Example input values (replace these with your actual input mechanism)\n",
    "GENOMIC_SEX = int(input(\"Gender (0 for F, 1 for M): \"))\n",
    "AGE= float(input(\"Age: \"))\n",
    "BLOOD_TYPE =float(input(\"BLOOD_TYPE : \"))\n",
    "NUMBER_OF_SIBLINGS = float(input(\"FamilyHistory LC: \"))\n",
    "PARENT_ALIVE=float(input(\"PARENT_DeathwithReason: \"))\n",
    "SMOKING_STATUS=float(input(\"SMOKING_STATUS: \"))\n",
    "DAILY_CIGARETTES =float(input(\"DAILY_CIGARETTES: \"))\n",
    "YELLOW_SKIN=float(input(\"YELLOW_SKIN: \"))\n",
    "ANXIETY=float(input(\"ANXIETY: \"))\n",
    "PEER_PRESSURE=float(input(\"PEER_PRESSURE: \"))\n",
    "COPD_DIAGNOSES=float(input(\"COPD_DIAGNOSES: \"))\n",
    "FATIGUE=float(input(\"FATIGUE: \"))\n",
    "ALLERGY=float(input(\"ALLERGY: \"))\n",
    "WHEEZING = float(input(\"WHEEZING: \"))\n",
    "ALCOHOL_CONSUMPTION=float(input(\"ALCOHOL_CONSUMPTION: \"))\n",
    "COUGHING=float(input(\"COUGHING:\"))\n",
    "SHORTNESS_OF_BREATH=float(input(\"SHORTNESS_OF_BREATH:\"))\n",
    "SWALLOWING_DIFFICULTY=float(input(\"SWALLOWING_DIFFICULTY: \"))\n",
    "CHEST_PAIN=float(input(\"CHEST_PAIN: \"))\n",
    "#LUNG_CANCER=float(input(\"LUNG_CANCER: \"))\n",
    "\n",
    "future_prediction = loaded_model.predict([[GENOMIC_SEX,AGE,BLOOD_TYPE,NUMBER_OF_SIBLINGS,PARENT_ALIVE,SMOKING_STATUS,\n",
    "                                           DAILY_CIGARETTES,YELLOW_SKIN,ANXIETY,PEER_PRESSURE,COPD_DIAGNOSES,FATIGUE,\n",
    "                                           ALLERGY,WHEEZING,ALCOHOL_CONSUMPTION,COUGHING,SHORTNESS_OF_BREATH,\n",
    "                                           SWALLOWING_DIFFICULTY,CHEST_PAIN]])\n"
   ]
  },
  {
   "cell_type": "code",
   "execution_count": 7,
   "id": "bf9cc367",
   "metadata": {},
   "outputs": [
    {
     "name": "stdout",
     "output_type": "stream",
     "text": [
      "Predicted outcome related to Lung cancer: 1.9229351132297632\n"
     ]
    }
   ],
   "source": [
    "# Print or use the numerical prediction directly\n",
    "print(\"Predicted outcome related to Lung cancer:\", future_prediction[0])"
   ]
  },
  {
   "cell_type": "code",
   "execution_count": 8,
   "id": "be879036",
   "metadata": {},
   "outputs": [
    {
     "name": "stdout",
     "output_type": "stream",
     "text": [
      "Predicted outcome related to Lung cancer (Yes/No): Yes\n"
     ]
    }
   ],
   "source": [
    "# Print the categorical prediction\n",
    "# If you want to use the get_reg_prediction function\n",
    "print(\"Predicted outcome related to Lung cancer (Yes/No):\", get_reg_prediction(future_prediction[0]))"
   ]
  },
  {
   "cell_type": "code",
   "execution_count": null,
   "id": "c4d57fed",
   "metadata": {},
   "outputs": [],
   "source": []
  }
 ],
 "metadata": {
  "kernelspec": {
   "display_name": "Python 3 (ipykernel)",
   "language": "python",
   "name": "python3"
  },
  "language_info": {
   "codemirror_mode": {
    "name": "ipython",
    "version": 3
   },
   "file_extension": ".py",
   "mimetype": "text/x-python",
   "name": "python",
   "nbconvert_exporter": "python",
   "pygments_lexer": "ipython3",
   "version": "3.12.4"
  }
 },
 "nbformat": 4,
 "nbformat_minor": 5
}
